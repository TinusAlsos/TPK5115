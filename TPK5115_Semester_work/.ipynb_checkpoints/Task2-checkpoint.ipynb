{
 "cells": [
  {
   "cell_type": "markdown",
   "id": "8b783c33",
   "metadata": {},
   "source": [
    "# Task 2 "
   ]
  },
  {
   "cell_type": "code",
   "execution_count": 1,
   "id": "fc8be26e",
   "metadata": {},
   "outputs": [],
   "source": [
    "# Data\n",
    "A1 = 16\n",
    "A2 = 8\n",
    "B1 = 10\n",
    "B2 = 8\n",
    "C1 = 14\n",
    "C2 = 6\n",
    "p1 = 10\n",
    "p2 = 12\n",
    "cO = 100\n",
    "x1 = 2.042\n",
    "x2 = 3.267\n",
    "x3 = 2.333\n",
    "x4 = 2.4\n",
    "x5 = 2.4\n",
    "x6 = 3.2\n",
    "x7 = 0.358\n",
    "x8 = 0"
   ]
  },
  {
   "cell_type": "code",
   "execution_count": 2,
   "id": "42b17143",
   "metadata": {},
   "outputs": [],
   "source": [
    "low = lambda mu: mu * .8\n",
    "high = lambda mu: mu* 1.1\n",
    "LA1, LA2, LB1, LB2, LC1, LC2 = low(A1), low(A2), low(B1), low(B2), low(C1), low(C2)\n",
    "HA1, HA2, HB1, HB2, HC1, HC2 = high(A1), high(A2), high(B1), high(B2), high(C1), high(C2)"
   ]
  },
  {
   "cell_type": "markdown",
   "id": "b1425875",
   "metadata": {},
   "source": [
    "Let $M$ be the stochastic variable denoting the production rates and $m$ be the representation of the possible production rates $M$ can take. Let $u$ be the number of units produced, $T$ the stochastic variable denoting the time it takes to produce $u$ units and $t$ be the representation of the possible times it takes to produce $u$ units."
   ]
  },
  {
   "cell_type": "markdown",
   "id": "0b87c1da",
   "metadata": {},
   "source": [
    "We can simplify by setting $u=1$, we then get $$ t_1 = \\frac{1}{\\mu}$$ and $$T_1 = \\frac{1}{M_1}$$\n",
    "Then, we effectively get the time per unit."
   ]
  },
  {
   "cell_type": "markdown",
   "id": "c0876c14",
   "metadata": {},
   "source": [
    "We can therefore simply calculate $M_1$, which is PERT distriuted and take the inverse to get the time. "
   ]
  },
  {
   "cell_type": "markdown",
   "id": "887d0876",
   "metadata": {},
   "source": [
    "The expectation and variance of a PERT-distrbuted stochastic variable is given by equation (3.53) in the compendium. "
   ]
  },
  {
   "cell_type": "markdown",
   "id": "81fa8582",
   "metadata": {},
   "source": [
    "#### a) Expectation and variance "
   ]
  },
  {
   "cell_type": "code",
   "execution_count": 3,
   "id": "a5c17b4e",
   "metadata": {},
   "outputs": [],
   "source": [
    "def PERTe(L, M, H):\n",
    "    return (L + 4*M + H)/6\n",
    "def PERTvar(L, M, H):\n",
    "    E = PERTe(L, M, H)\n",
    "    return (E - L)*(H - E)/7 "
   ]
  },
  {
   "cell_type": "code",
   "execution_count": 4,
   "id": "6761d539",
   "metadata": {},
   "outputs": [],
   "source": [
    "inv = lambda mu: 1/mu # inverse function. Go from mu to t"
   ]
  },
  {
   "cell_type": "code",
   "execution_count": 5,
   "id": "f39afa02",
   "metadata": {},
   "outputs": [],
   "source": [
    "# calculate m's\n",
    "mA1, varmA1 = PERTe(LA1, A1, HA1), PERTvar(LA1, A1, HA1)\n",
    "mB1, varmB1 = PERTe(LB1, B1, HB1), PERTvar(LB1, B1, HB1)\n",
    "mC1, varmC1 = PERTe(LC1, C1, HC1), PERTvar(LC1, C1, HC1)\n",
    "mA2, varmA2 = PERTe(LA2, A2, HA2), PERTvar(LA2, A2, HA2)\n",
    "mB2, varmB2 = PERTe(LB2, B2, HB2), PERTvar(LB2, B2, HB2)\n",
    "mC2, varmC2 = PERTe(LC2, C2, HC2), PERTvar(LC2, C2, HC2)"
   ]
  },
  {
   "cell_type": "code",
   "execution_count": 6,
   "id": "191a071c",
   "metadata": {},
   "outputs": [],
   "source": [
    "# calculate t's\n",
    "# inverse of lows\n",
    "tLA1, tLA2, tLB1, tLB2, tLC1, tLC2 = (inv(x) for x in [LA1, LA2, LB1, LB2, LC1, LC2])\n",
    "# inverse of mediums\n",
    "tMA1, tMA2, tMB1, tMB2, tMC1, tMC2 = (inv(x) for x in [A1, A2, B1, B2, C1, C2])\n",
    "#inverse of highs\n",
    "tHA1, tHA2, tHB1, tHB2, tHC1, tHC2 = (inv(x) for x in [HA1, HA2, HB1, HB2, HC1, HC2])"
   ]
  },
  {
   "cell_type": "code",
   "execution_count": 7,
   "id": "8c8fdd07",
   "metadata": {},
   "outputs": [],
   "source": [
    "# calculate T1\n",
    "tA1, vartA1 = PERTe(tLA1, tMA1, tHA1), PERTvar(tLA1, tMA1, tHA1)\n",
    "tB1, vartB1 = PERTe(tLB1, tMB1, tHB1), PERTvar(tLB1, tMB1, tHB1)\n",
    "tC1, vartC1 = PERTe(tLC1, tMC1, tHC1), PERTvar(tLC1, tMC1, tHC1)\n",
    "tA2, vartA2 = PERTe(tLA2, tMA2, tHA2), PERTvar(tLA2, tMA2, tHA2)\n",
    "tB2, vartB2 = PERTe(tLB2, tMB2, tHB2), PERTvar(tLB2, tMB2, tHB2)\n",
    "tC2, vartC2 = PERTe(tLC2, tMC2, tHC2), PERTvar(tLC2, tMC2, tHC2)"
   ]
  },
  {
   "cell_type": "code",
   "execution_count": 8,
   "id": "fad2d120",
   "metadata": {},
   "outputs": [],
   "source": [
    "import pandas as pd"
   ]
  },
  {
   "cell_type": "code",
   "execution_count": 9,
   "id": "31fa7c73",
   "metadata": {},
   "outputs": [
    {
     "data": {
      "text/html": [
       "<div>\n",
       "<style scoped>\n",
       "    .dataframe tbody tr th:only-of-type {\n",
       "        vertical-align: middle;\n",
       "    }\n",
       "\n",
       "    .dataframe tbody tr th {\n",
       "        vertical-align: top;\n",
       "    }\n",
       "\n",
       "    .dataframe thead th {\n",
       "        text-align: right;\n",
       "    }\n",
       "</style>\n",
       "<table border=\"1\" class=\"dataframe\">\n",
       "  <thead>\n",
       "    <tr style=\"text-align: right;\">\n",
       "      <th></th>\n",
       "      <th>Machine/product</th>\n",
       "      <th>Expected time</th>\n",
       "      <th>Variance in time</th>\n",
       "    </tr>\n",
       "  </thead>\n",
       "  <tbody>\n",
       "    <tr>\n",
       "      <th>0</th>\n",
       "      <td>A1</td>\n",
       "      <td>0.064157</td>\n",
       "      <td>0.000015</td>\n",
       "    </tr>\n",
       "    <tr>\n",
       "      <th>1</th>\n",
       "      <td>B1</td>\n",
       "      <td>0.102652</td>\n",
       "      <td>0.000037</td>\n",
       "    </tr>\n",
       "    <tr>\n",
       "      <th>2</th>\n",
       "      <td>C1</td>\n",
       "      <td>0.073323</td>\n",
       "      <td>0.000019</td>\n",
       "    </tr>\n",
       "    <tr>\n",
       "      <th>3</th>\n",
       "      <td>A2</td>\n",
       "      <td>0.128314</td>\n",
       "      <td>0.000059</td>\n",
       "    </tr>\n",
       "    <tr>\n",
       "      <th>4</th>\n",
       "      <td>B2</td>\n",
       "      <td>0.128314</td>\n",
       "      <td>0.000059</td>\n",
       "    </tr>\n",
       "    <tr>\n",
       "      <th>5</th>\n",
       "      <td>C2</td>\n",
       "      <td>0.171086</td>\n",
       "      <td>0.000104</td>\n",
       "    </tr>\n",
       "  </tbody>\n",
       "</table>\n",
       "</div>"
      ],
      "text/plain": [
       "  Machine/product  Expected time  Variance in time\n",
       "0              A1       0.064157          0.000015\n",
       "1              B1       0.102652          0.000037\n",
       "2              C1       0.073323          0.000019\n",
       "3              A2       0.128314          0.000059\n",
       "4              B2       0.128314          0.000059\n",
       "5              C2       0.171086          0.000104"
      ]
     },
     "metadata": {},
     "output_type": "display_data"
    }
   ],
   "source": [
    "dic = {'Machine/product': ['A1', 'B1', 'C1', 'A2', 'B2', 'C2'],\n",
    "       'Expected time': [tA1, tB1, tC1, tA2, tB2, tC2],\n",
    "       'Variance in time': [vartA1, vartB1, vartC1, vartA2, vartB2, vartC2]\n",
    "      }\n",
    "# columns = ['Machine/product', 'Expected time', 'Variance time']\n",
    "df = pd.DataFrame(dic)\n",
    "df.reset_index(drop=True)\n",
    "display(df)"
   ]
  },
  {
   "cell_type": "code",
   "execution_count": 10,
   "id": "29fab4f8",
   "metadata": {},
   "outputs": [
    {
     "name": "stdout",
     "output_type": "stream",
     "text": [
      "0.6678458694083694\n"
     ]
    }
   ],
   "source": [
    "print(sum(df['Expected time']))"
   ]
  },
  {
   "cell_type": "code",
   "execution_count": 11,
   "id": "acf0bd75",
   "metadata": {},
   "outputs": [
    {
     "name": "stdout",
     "output_type": "stream",
     "text": [
      "0.9833333333333334\n",
      "0.0030555555555555566\n",
      "1.0169491525423728\n"
     ]
    }
   ],
   "source": [
    "e1, v1 = PERTe(0.8, 1, 1.1), PERTvar(0.8, 1, 1.1)\n",
    "print(e1)\n",
    "print(v1)\n",
    "print(1/e1)\n"
   ]
  },
  {
   "cell_type": "markdown",
   "id": "238d3416",
   "metadata": {},
   "source": [
    "#### c) "
   ]
  },
  {
   "cell_type": "markdown",
   "id": "620c8e84",
   "metadata": {},
   "source": [
    "#### d) "
   ]
  },
  {
   "cell_type": "code",
   "execution_count": 12,
   "id": "e49719a5",
   "metadata": {},
   "outputs": [
    {
     "name": "stdout",
     "output_type": "stream",
     "text": [
      "Units to produce of product 1: 32.672\n",
      "Units to produce of product 2: 19.2\n"
     ]
    }
   ],
   "source": [
    "units1 = x1 * A1\n",
    "units2 = x4 * A2\n",
    "print(f\"Units to produce of product 1: {units1}\")\n",
    "print(f\"Units to produce of product 2: {units2}\")"
   ]
  },
  {
   "cell_type": "markdown",
   "id": "6b5891e6",
   "metadata": {},
   "source": [
    "#### a) "
   ]
  },
  {
   "cell_type": "code",
   "execution_count": 13,
   "id": "d629432d",
   "metadata": {},
   "outputs": [],
   "source": [
    "from pert import PERT\n",
    "import scipy\n",
    "from scipy.integrate import quad\n",
    "import math\n",
    "import numpy as np\n",
    "from IPython.display import Image"
   ]
  },
  {
   "cell_type": "code",
   "execution_count": 14,
   "id": "52c3a693",
   "metadata": {},
   "outputs": [],
   "source": [
    "def exp_var_PERT(mu, u):\n",
    "    L = 0.8*mu\n",
    "    M = mu\n",
    "    H = 1.1*mu\n",
    "    pert = PERT(L, M, H)\n",
    "    fX = lambda x: pert.pdf(x)\n",
    "    g = lambda x: u/x\n",
    "    fun_exp = lambda x: g(x)*fX(x)\n",
    "    exp, err = quad(fun_exp, L, H)\n",
    "    fun_var = lambda x: (g(x)-exp)**2*fX(x)\n",
    "    var, err_var = quad(fun_var, L, H)\n",
    "    return exp, var"
   ]
  },
  {
   "cell_type": "markdown",
   "id": "0118fdf5",
   "metadata": {},
   "source": [
    "Testing with u = 1 and mu = 1 yields:"
   ]
  },
  {
   "cell_type": "code",
   "execution_count": 15,
   "id": "cab4ee58",
   "metadata": {},
   "outputs": [
    {
     "name": "stdout",
     "output_type": "stream",
     "text": [
      "E(g(X)) = 1.02024\n",
      "Var(g(X)) = 0.00345\n"
     ]
    }
   ],
   "source": [
    "exp, var = exp_var_PERT(1, 1)\n",
    "print(f\"E(g(X)) = {exp:.5f}\")\n",
    "print(f\"Var(g(X)) = {var:.5f}\")"
   ]
  },
  {
   "cell_type": "markdown",
   "id": "607c5ab3",
   "metadata": {},
   "source": [
    "#### b) "
   ]
  },
  {
   "cell_type": "code",
   "execution_count": 16,
   "id": "1bd4ac0e",
   "metadata": {},
   "outputs": [],
   "source": [
    "def exp_var_PERT_MCS(mu, u, num):\n",
    "    L = 0.8 * mu\n",
    "    H = 1.1*mu\n",
    "    M = mu\n",
    "    alpha = 1 + 4*(M - L)/(H-L)\n",
    "    beta = 1 + 4*(H - M)/(H-L)\n",
    "    values = u/(L + np.random.beta(alpha, beta, size=10000)*(H-L))\n",
    "    exp = np.average(values)\n",
    "    var = np.var(values)\n",
    "    return exp, var"
   ]
  },
  {
   "cell_type": "markdown",
   "id": "efe4987d",
   "metadata": {},
   "source": [
    "Testing with u = 1 and mu = 1 yields and 10000 simulations yields:"
   ]
  },
  {
   "cell_type": "code",
   "execution_count": 17,
   "id": "e0603df5",
   "metadata": {},
   "outputs": [
    {
     "name": "stdout",
     "output_type": "stream",
     "text": [
      "E(g(X)) = 1.02028\n",
      "Var(g(X)) = 0.00344\n"
     ]
    }
   ],
   "source": [
    "exp, var = exp_var_PERT_MCS(1, 1, 10000)\n",
    "print(f\"E(g(X)) = {exp:.5f}\")\n",
    "print(f\"Var(g(X)) = {var:.5f}\")"
   ]
  },
  {
   "cell_type": "markdown",
   "id": "5e48db17",
   "metadata": {},
   "source": [
    "#### c)"
   ]
  },
  {
   "cell_type": "markdown",
   "id": "d2881e6d",
   "metadata": {},
   "source": [
    "![title](TPK5115_semester_task2c.png)"
   ]
  },
  {
   "cell_type": "markdown",
   "id": "2987d193",
   "metadata": {},
   "source": [
    "#### d) "
   ]
  },
  {
   "cell_type": "markdown",
   "id": "5b80de86",
   "metadata": {},
   "source": [
    "We simply utilize the method described in chapter 4.3, with out network described by out above picture. In the below code, we let TA1 denote the time it takes (expected and variance) to produce u units for product 1 on machine A. Further let TA1F denote the time it takes (expected and variance) to finalize activity A1, given the above paths."
   ]
  },
  {
   "cell_type": "markdown",
   "id": "46e5b254",
   "metadata": {},
   "source": [
    "First, we calculate the number of units to produce according to the operations research department."
   ]
  },
  {
   "cell_type": "code",
   "execution_count": 18,
   "id": "7005c652",
   "metadata": {},
   "outputs": [
    {
     "name": "stdout",
     "output_type": "stream",
     "text": [
      "Units to produce of product 1: 32.672\n",
      "Units to produce of product 2: 19.2\n"
     ]
    }
   ],
   "source": [
    "units1 = x1 * A1\n",
    "units2 = x4 * A2\n",
    "print(f\"Units to produce of product 1: {units1}\")\n",
    "print(f\"Units to produce of product 2: {units2}\")"
   ]
  },
  {
   "cell_type": "markdown",
   "id": "db9908bf",
   "metadata": {},
   "source": [
    "Now, we calculate the expected time for each acitivity."
   ]
  },
  {
   "cell_type": "code",
   "execution_count": 19,
   "id": "30b765d5",
   "metadata": {},
   "outputs": [],
   "source": [
    "mus1 = [A1, B1, C1]\n",
    "mus2 = [A2, B2, C2]\n",
    "times1 = [(exp_var_PERT(mu, units1)) for mu in mus1]\n",
    "times2 = [(exp_var_PERT(mu, units2)) for mu in mus2]"
   ]
  },
  {
   "cell_type": "markdown",
   "id": "932dd56f",
   "metadata": {},
   "source": [
    "Then, we print out the values and apply them to the excel-sheet to account for the virtual nodes by using VarMax and EMax."
   ]
  },
  {
   "cell_type": "code",
   "execution_count": 20,
   "id": "ac155cdb",
   "metadata": {},
   "outputs": [
    {
     "name": "stdout",
     "output_type": "stream",
     "text": [
      "TA1:\n",
      "E = 2.08334\n",
      "Var = 0.01439\n",
      "----------------\n",
      "TB1:\n",
      "E = 3.33334\n",
      "Var = 0.03683\n",
      "----------------\n",
      "TC1:\n",
      "E = 2.38096\n",
      "Var = 0.01879\n",
      "----------------\n",
      "TA2:\n",
      "E = 2.44858\n",
      "Var = 0.01987\n",
      "----------------\n",
      "TB2:\n",
      "E = 2.44858\n",
      "Var = 0.01987\n",
      "----------------\n",
      "TC2:\n",
      "E = 3.26478\n",
      "Var = 0.03533\n",
      "----------------\n"
     ]
    }
   ],
   "source": [
    "LETTERS = [\"A\", \"B\", \"C\"]\n",
    "for index, val in enumerate(times1):\n",
    "    exp = val[0]\n",
    "    var = val[1]\n",
    "    print(f\"T{LETTERS[index]}1:\")\n",
    "    print(f\"E = {exp:.5f}\")\n",
    "    print(f\"Var = {var:.5f}\")\n",
    "    print('----------------')\n",
    "    \n",
    "for index, val in enumerate(times2):\n",
    "    exp = val[0]\n",
    "    var = val[1]\n",
    "    print(f\"T{LETTERS[index]}2:\")\n",
    "    print(f\"E = {exp:.5f}\")\n",
    "    print(f\"Var = {var:.5f}\")\n",
    "    print('----------------')    \n",
    "    "
   ]
  },
  {
   "cell_type": "markdown",
   "id": "6cf6141a",
   "metadata": {},
   "source": [
    "Now we can insert the values in Excel to get the following result:"
   ]
  },
  {
   "cell_type": "markdown",
   "id": "54208d42",
   "metadata": {},
   "source": [
    "![title](TPK5115_semester_task2d.png)"
   ]
  },
  {
   "cell_type": "markdown",
   "id": "2149fef8",
   "metadata": {},
   "source": [
    "#### e) "
   ]
  },
  {
   "cell_type": "markdown",
   "id": "19c087a3",
   "metadata": {},
   "source": [
    "We repeat the same procedure, but this time we use Monte Carlo Simluation to calculate the expected time (that is, we use the exp_var_PERT_MCS function). We choose to run 10000 simulations. Note that if the calculated values deviate from the excel-spreadsheet in this task, it is because the notebook has been rerun (consequently the values may differ since it is a simulation)."
   ]
  },
  {
   "cell_type": "code",
   "execution_count": 21,
   "id": "12902ecb",
   "metadata": {},
   "outputs": [],
   "source": [
    "num_sim = 10e3\n",
    "times1 = [(exp_var_PERT_MCS(mu, units1, num_sim)) for mu in mus1]\n",
    "times2 = [(exp_var_PERT_MCS(mu, units2, num_sim)) for mu in mus2]"
   ]
  },
  {
   "cell_type": "code",
   "execution_count": 22,
   "id": "96b19c33",
   "metadata": {},
   "outputs": [
    {
     "name": "stdout",
     "output_type": "stream",
     "text": [
      "TA1:\n",
      "E = 2.08395\n",
      "Var = 0.01472\n",
      "----------------\n",
      "TB1:\n",
      "E = 3.33439\n",
      "Var = 0.03652\n",
      "----------------\n",
      "TC1:\n",
      "E = 2.37939\n",
      "Var = 0.01906\n",
      "----------------\n",
      "TA2:\n",
      "E = 2.44659\n",
      "Var = 0.01977\n",
      "----------------\n",
      "TB2:\n",
      "E = 2.44871\n",
      "Var = 0.02002\n",
      "----------------\n",
      "TC2:\n",
      "E = 3.26426\n",
      "Var = 0.03484\n",
      "----------------\n"
     ]
    }
   ],
   "source": [
    "for index, val in enumerate(times1):\n",
    "    exp = val[0]\n",
    "    var = val[1]\n",
    "    print(f\"T{LETTERS[index]}1:\")\n",
    "    print(f\"E = {exp:.5f}\")\n",
    "    print(f\"Var = {var:.5f}\")\n",
    "    print('----------------')\n",
    "    \n",
    "for index, val in enumerate(times2):\n",
    "    exp = val[0]\n",
    "    var = val[1]\n",
    "    print(f\"T{LETTERS[index]}2:\")\n",
    "    print(f\"E = {exp:.5f}\")\n",
    "    print(f\"Var = {var:.5f}\")\n",
    "    print('----------------')    "
   ]
  },
  {
   "cell_type": "markdown",
   "id": "45ad3400",
   "metadata": {},
   "source": [
    "The first time the above code was run, the following result was printed (it was saved as a picture):"
   ]
  },
  {
   "cell_type": "markdown",
   "id": "2c0d9a91",
   "metadata": {},
   "source": [
    "![title](TPK5115_semester_task2e1.png)"
   ]
  },
  {
   "cell_type": "markdown",
   "id": "7fdb2dbf",
   "metadata": {},
   "source": [
    "In excel, we get the following result for the MCS:"
   ]
  },
  {
   "cell_type": "markdown",
   "id": "6a5f74ed",
   "metadata": {},
   "source": [
    "![title](TPK5115_semester_task2e2.png)"
   ]
  },
  {
   "cell_type": "code",
   "execution_count": 23,
   "id": "7a1d211d",
   "metadata": {},
   "outputs": [
    {
     "name": "stdout",
     "output_type": "stream",
     "text": [
      "Overtime SSP = 0.365 hours\n",
      "Cost of overtime SSP = 36.456\n",
      "----------\n",
      "Overtime MCS = 0.367 hours\n",
      "Cost of overtime MCS = 36.693\n"
     ]
    }
   ],
   "source": [
    "time_SSP = 8.36456\n",
    "time_MCS = 8.36693\n",
    "hours_day = 8\n",
    "overtime_SSP, overtime_MCS = time_SSP - hours_day, time_MCS - hours_day\n",
    "cost_overtime_SSP = overtime_SSP*cO\n",
    "cost_overtime_MCS = overtime_MCS*cO\n",
    "print(f\"Overtime SSP = {overtime_SSP:.3f} hours\")\n",
    "print(f\"Cost of overtime SSP = {cost_overtime_SSP:.3f}\")\n",
    "print('----------')\n",
    "print(f\"Overtime MCS = {overtime_MCS:.3f} hours\")\n",
    "print(f\"Cost of overtime MCS = {cost_overtime_MCS:.3f}\")"
   ]
  },
  {
   "cell_type": "markdown",
   "id": "b2a0445c",
   "metadata": {},
   "source": [
    "#### f) "
   ]
  },
  {
   "cell_type": "markdown",
   "id": "9a957c63",
   "metadata": {},
   "source": [
    "To calculate this efficiently, we apply the VarMax and EMax function in python and solve numerically. We assume that the reduction in production p is percentvise similar for P1 and P2, that is, we reduce the production of both products to new_number_units = old_number_units*(1-p)"
   ]
  },
  {
   "cell_type": "markdown",
   "id": "f30e5445",
   "metadata": {},
   "source": [
    "We let Y = max(X1, X2), and use a monte carlo simulation procedure to find the expected value and variance. As is done in the 'pRisk' excel-sheet, we assume that the input distributions are independent and normally distributed. We control our procedure of finding eMax and VarMax with the excel-function, and see (although not shown), that the provided result is close to equal. They deviate since they are both numerical."
   ]
  },
  {
   "cell_type": "code",
   "execution_count": 24,
   "id": "84f89a2b",
   "metadata": {},
   "outputs": [],
   "source": [
    "from numpy.random import normal"
   ]
  },
  {
   "cell_type": "code",
   "execution_count": 31,
   "id": "0becbcb4",
   "metadata": {},
   "outputs": [],
   "source": [
    "def eMax_VarMax(mu1, var1, mu2, var2, num_sim = 1000, cost_analysis = False):\n",
    "    sigma1, sigma2 = math.sqrt(var1), math.sqrt(var2)\n",
    "    X1 = normal(loc = mu1, scale = sigma1, size = num_sim)\n",
    "    X2 = normal(loc = mu2, scale = sigma2, size = num_sim)\n",
    "    Y = np.array([max(X1[i], X2[i]) for i in range(len(X1))])\n",
    "    exp, var = np.average(Y), np.var(Y)\n",
    "    if cost_analysis:\n",
    "        costs = [(time - 8)*cO if time > 8 else 0 for time in Y]\n",
    "        ave_cost = sum(costs)/len(costs)\n",
    "        print(ave_cost)\n",
    "        return exp, var, ave_cost\n",
    "    return exp, var"
   ]
  },
  {
   "cell_type": "code",
   "execution_count": 32,
   "id": "7ff71c7c",
   "metadata": {},
   "outputs": [
    {
     "name": "stdout",
     "output_type": "stream",
     "text": [
      "37.16328775851559\n",
      "29.222237858739497\n",
      "23.63989692349584\n",
      "15.395566022550168\n",
      "11.254873610996214\n",
      "7.01137320249381\n",
      "3.8545311750475784\n",
      "1.6211136374639321\n",
      "0.8265514447008347\n",
      "0.3481191249634918\n",
      "0.1699180132839068\n",
      "0.03932395603037584\n",
      "0.01245992682525845\n",
      "0.0\n",
      "0.0\n",
      "0.0\n",
      "0.0\n",
      "0.0\n",
      "0.0\n",
      "0.0\n"
     ]
    }
   ],
   "source": [
    "ps = np.arange(0, 0.2, 0.01)\n",
    "n = len(ps)\n",
    "production_times = np.zeros(n)\n",
    "overtimes = np.zeros(n)\n",
    "cost_of_overtimes = np.zeros(n)\n",
    "revenues = np.zeros(n)\n",
    "profits = np.zeros(n)\n",
    "num_units1 = np.zeros(n)\n",
    "num_units2 = np.zeros(n)\n",
    "max_profit, index = (0, 0)\n",
    "for i, p in enumerate(ps):\n",
    "    # Calculate units produced\n",
    "    num_u1 = units1*(1-p)\n",
    "    num_u2 = units2*(1-p)\n",
    "    num_units1[i] = num_u1\n",
    "    num_units2[i] = num_u2\n",
    "    # Calculate revenue\n",
    "    revenue = num_u1*p1 + num_u2*p2\n",
    "    revenues[i] = revenue\n",
    "    # Calculate time to produce units for product 1\n",
    "    TA1, VarTA1 = exp_var_PERT(A1, num_u1)\n",
    "    TB1, VarTB1 = exp_var_PERT(B1, num_u1)\n",
    "    TC1, VarTC1 = exp_var_PERT(C1, num_u1)\n",
    "    # Calculate time to produce units for product 2\n",
    "    TA2, VarTA2 = exp_var_PERT(A2, num_u2)\n",
    "    TB2, VarTB2 = exp_var_PERT(B2, num_u2)\n",
    "    TC2, VarTC2 = exp_var_PERT(C2, num_u2)\n",
    "    \n",
    "    # Calculate finalization times for product 2\n",
    "    TB2F, VarTB2F = TB2, VarTB2\n",
    "    TC2F, VarTC2F = TB2F + TC2, VarTB2F + VarTC2\n",
    "    TA2F, VarTA2F = TC2F + TA2, VarTC2F + VarTA2\n",
    "    \n",
    "     # Calculate finalization times for product 1\n",
    "    TA1F, VarTA1F = TA1, VarTA1\n",
    "    TV1F, VarTV1F = eMax_VarMax(TA1F, VarTA1F, TB2F, VarTB2F) # V1\n",
    "    TB1F, VarTB1F = TV1F + TB1, VarTV1F + VarTB1\n",
    "    TV2F, VarTV2F = eMax_VarMax(TB1F, VarTB1F, TC2F, VarTC2F) # V2\n",
    "    TC1F, VarTC1F = TV2F + TC1, VarTC2F + VarTC1\n",
    "    \n",
    "    # Final stage\n",
    "    TF, VarF, cost_of_overtime = eMax_VarMax(TC1F, VarTC1F, TA2F, VarTA2F, cost_analysis =True)\n",
    "    \n",
    "    production_time = TF\n",
    "    overtime = production_time - 8 if production_time > 8 else 0\n",
    "#     cost_of_overtime = overtime * cO \n",
    "    profit = revenue - cost_of_overtime\n",
    "    if profit > max_profit:\n",
    "        max_profit, index = profit, i\n",
    "    \n",
    "    production_times[i] = production_time\n",
    "    overtimes[i] = overtime\n",
    "    cost_of_overtimes[i] = cost_of_overtime\n",
    "    profits[i] = profit"
   ]
  },
  {
   "cell_type": "code",
   "execution_count": 37,
   "id": "b5d6c767",
   "metadata": {},
   "outputs": [
    {
     "name": "stdout",
     "output_type": "stream",
     "text": [
      "Optimal percentage p = 3.0 %\n",
      "Units produced of product 1 = 31.691839999999996\n",
      "Units produced of product 2 = 18.624\n",
      "Cost of overtime = 15.395566022550168\n",
      "Revenue = 540.4064\n",
      "Profit = 525.0108339774498\n",
      "Average production time = 8.114291067890404\n"
     ]
    }
   ],
   "source": [
    "print(f\"Optimal percentage p = {ps[index]*100} %\")\n",
    "print(f\"Units produced of product 1 = {num_units1[index]}\")\n",
    "print(f\"Units produced of product 2 = {num_units2[index]}\")\n",
    "print(f\"Cost of overtime = {cost_of_overtimes[index]}\")\n",
    "print(f\"Revenue = {revenues[index]}\")\n",
    "print(f\"Profit = {profits[index]}\")\n",
    "print(f\"Average production time = {production_times[index]}\")"
   ]
  },
  {
   "cell_type": "markdown",
   "id": "1be48003",
   "metadata": {},
   "source": [
    "We can plot the results to visualize"
   ]
  },
  {
   "cell_type": "code",
   "execution_count": 34,
   "id": "d7fa5cba",
   "metadata": {},
   "outputs": [
    {
     "data": {
      "text/plain": [
       "[]"
      ]
     },
     "execution_count": 34,
     "metadata": {},
     "output_type": "execute_result"
    },
    {
     "data": {
      "image/png": "[encoded data removed]",
      "text/plain": [
       "<Figure size 432x288 with 1 Axes>"
      ]
     },
     "metadata": {
      "needs_background": "light"
     },
     "output_type": "display_data"
    }
   ],
   "source": [
    "import matplotlib.pyplot as plt\n",
    "# plt.plot(ps*100, production_times, 'b', label = 'Production times')\n",
    "plt.plot(ps*100, profits, 'g', label = 'Profit')\n",
    "plt.plot(ps[index]*100, profits[index], 'rs', label = 'Best value')\n",
    "plt.text(ps[index]*100, profits[index], f\"p={ps[index]*100:.1f}%, profit={profits[index]:.1f}\")\n",
    "plt.grid()\n",
    "plt.legend()\n",
    "plt.xlabel('Reduced production, p [%]')\n",
    "plt.ylabel('Profit')\n",
    "plt.plot()"
   ]
  },
  {
   "cell_type": "code",
   "execution_count": 35,
   "id": "a38cb7b2",
   "metadata": {},
   "outputs": [
    {
     "data": {
      "text/plain": [
       "[]"
      ]
     },
     "execution_count": 35,
     "metadata": {},
     "output_type": "execute_result"
    },
    {
     "data": {
      "image/png": "[encoded data removed]",
      "text/plain": [
       "<Figure size 432x288 with 1 Axes>"
      ]
     },
     "metadata": {
      "needs_background": "light"
     },
     "output_type": "display_data"
    }
   ],
   "source": [
    "import matplotlib.pyplot as plt\n",
    "# plt.plot(ps*100, production_times, 'b', label = 'Production times')\n",
    "plt.plot(ps*100, production_times, 'g', label = 'Production times')\n",
    "plt.grid()\n",
    "plt.legend()\n",
    "plt.xlabel('Reduced production, p [%]')\n",
    "plt.ylabel('hours')\n",
    "plt.plot()"
   ]
  },
  {
   "cell_type": "code",
   "execution_count": 36,
   "id": "ad3c7f44",
   "metadata": {
    "scrolled": true
   },
   "outputs": [
    {
     "data": {
      "text/plain": [
       "[]"
      ]
     },
     "execution_count": 36,
     "metadata": {},
     "output_type": "execute_result"
    },
    {
     "data": {
      "image/png": "[encoded data removed]",
      "text/plain": [
       "<Figure size 432x288 with 1 Axes>"
      ]
     },
     "metadata": {
      "needs_background": "light"
     },
     "output_type": "display_data"
    }
   ],
   "source": [
    "plt.plot(ps*100, num_units1, 'g', label = 'Units P1')\n",
    "plt.plot(ps*100, num_units2, 'b', label = 'Units P2')\n",
    "plt.grid()\n",
    "plt.legend()\n",
    "plt.xlabel('Reduced production, p [%]')\n",
    "plt.ylabel('Units produced')\n",
    "plt.plot()"
   ]
  },
  {
   "cell_type": "code",
   "execution_count": null,
   "id": "6b94ff1e",
   "metadata": {},
   "outputs": [],
   "source": []
  },
  {
   "cell_type": "code",
   "execution_count": null,
   "id": "7e1bc409",
   "metadata": {},
   "outputs": [],
   "source": []
  }
 ],
 "metadata": {
  "kernelspec": {
   "display_name": "Python 3",
   "language": "python",
   "name": "python3"
  },
  "language_info": {
   "codemirror_mode": {
    "name": "ipython",
    "version": 3
   },
   "file_extension": ".py",
   "mimetype": "text/x-python",
   "name": "python",
   "nbconvert_exporter": "python",
   "pygments_lexer": "ipython3",
   "version": "3.8.8"
  },
  "vscode": {
   "interpreter": {
    "hash": "be2bf22f00a8d0638119e05fdecbf479a4c3ed8c9fa51194f23100b73b46d8c3"
   }
  }
 },
 "nbformat": 4,
 "nbformat_minor": 5
}
