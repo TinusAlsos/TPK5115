{
 "cells": [
  {
   "cell_type": "markdown",
   "id": "9eb258ae",
   "metadata": {},
   "source": [
    "Task 3\n",
    "a) Taking uncertainty in the production rates into account, investigate if\n",
    "it now pays off to reduce the usage of machine B for product 2 with\n",
    "5 minutes (as discussed in Task 1b). Since the durations are random,\n",
    "we consider the corresponding reduction in planned production with the\n",
    "same percentage. We assume that we will not reduce total production\n",
    "as considered in the previous task.\n"
   ]
  },
  {
   "cell_type": "code",
   "execution_count": null,
   "id": "128b2b25",
   "metadata": {},
   "outputs": [],
   "source": []
  }
 ],
 "metadata": {
  "kernelspec": {
   "display_name": "Python 3",
   "language": "python",
   "name": "python3"
  },
  "language_info": {
   "codemirror_mode": {
    "name": "ipython",
    "version": 3
   },
   "file_extension": ".py",
   "mimetype": "text/x-python",
   "name": "python",
   "nbconvert_exporter": "python",
   "pygments_lexer": "ipython3",
   "version": "3.8.8"
  }
 },
 "nbformat": 4,
 "nbformat_minor": 5
}
