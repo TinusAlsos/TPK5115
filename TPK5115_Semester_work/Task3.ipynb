{
 "cells": [
  {
   "cell_type": "markdown",
   "id": "dd7469f6",
   "metadata": {},
   "source": [
    "# Task 3 "
   ]
  },
  {
   "cell_type": "markdown",
   "id": "23342a5d",
   "metadata": {},
   "source": [
    "### Oppgave 3\n",
    "#### a) \n",
    "We use the expected values that where calculated in 2b. And muplipy them with numberofproduct1 for product 1 and numberofproduct2 for product \n"
   ]
  },
  {
   "cell_type": "code",
   "execution_count": 1,
   "id": "fd039c7b",
   "metadata": {},
   "outputs": [
    {
     "name": "stdout",
     "output_type": "stream",
     "text": [
      "prod_1_reducing =7.866002166666667\n",
      " prod_2_reducing =7.9234021666666665\n",
      " prod_1_no_reducing =8.069166\n",
      " prod_2_no_reducing =8.126566\n",
      "\n",
      "The overtime cost for product 1: 6.916599999999917, product 2: 12.65660000000004\n",
      "It pays of to reduce the time, since it won't be any overtime cost\n"
     ]
    }
   ],
   "source": [
    "# Oppgave 3\n",
    "\n",
    "# Results from 2b:\n",
    "A1 = 0.064157\n",
    "B1 = 0.102652\n",
    "C1 = 0.073323\n",
    "A2 = 0.128314\n",
    "B2 = 0.128314\n",
    "C2 = 0.171086\n",
    "\n",
    "numberofproduct1 = 32\n",
    "numberofproduct2 = 19\n",
    "\n",
    "# a) We use the expected values that where calculated in 2b. And multipy them with 32 for product 1 and 19 for product 2. \n",
    "\n",
    "B2_time = 0.128314 * numberofproduct2\n",
    "# New time for machine B product 2: \n",
    "new_time_B = B2_time*(1 - 5 / 60)\n",
    "# We now calculate if there is any overtime and what the cost is:\n",
    "# Product 1 with reducing:\n",
    "prod_1_reducing = new_time_B + B1*numberofproduct1 + C1*numberofproduct1\n",
    "prod_2_reducing = new_time_B + C2*numberofproduct2 + A2*numberofproduct2\n",
    "# We don't have to pay overtime here. \n",
    "\n",
    "# Product 1 without reducing:\n",
    "prod_1_no_reducing = B2*numberofproduct2 + B1*numberofproduct1 + C1*numberofproduct1\n",
    "# Product 2 without reducing:\n",
    "prod_2_no_reducing = B2*numberofproduct2 + C2*numberofproduct2 + A2*numberofproduct2\n",
    "\n",
    "print(\n",
    "    f\"{prod_1_reducing =}\\n\",\n",
    "    f\"{prod_2_reducing =}\\n\",\n",
    "    f\"{prod_1_no_reducing =}\\n\",\n",
    "    f\"{prod_2_no_reducing =}\\n\",\n",
    ")\n",
    "\n",
    "# The overtime we have to pay is:\n",
    "Overtime1 = prod_1_no_reducing - 8\n",
    "Overtime1_cost = Overtime1*100\n",
    "Overtime2 = prod_2_no_reducing - 8\n",
    "Overtime2_cost = Overtime2*100\n",
    "\n",
    "print(f\"The overtime cost for product 1: {Overtime1_cost}, product 2: {Overtime2_cost}\")\n",
    "print(f\"It pays of to reduce the time, since it won't be any overtime cost\")"
   ]
  },
  {
   "cell_type": "markdown",
   "id": "7ee64a5f",
   "metadata": {},
   "source": [
    "### Oppgave b\n",
    "We calcutalte the cost we will get if we \n",
    "Since it won't be any overtime we don't have to take that into consideration. "
   ]
  },
  {
   "cell_type": "code",
   "execution_count": 2,
   "id": "78026979",
   "metadata": {},
   "outputs": [
    {
     "name": "stdout",
     "output_type": "stream",
     "text": [
      "486.74144000000007\n",
      "320\n",
      "567.5731999999999\n",
      "The profit can decrease with 56.38071074933488 %\n"
     ]
    }
   ],
   "source": [
    "costfor1 = 10\n",
    "costfor2 = 12\n",
    "cost = costfor1*numberofproduct1*0.20 + (costfor1*numberofproduct1+costfor2*numberofproduct2 - (Overtime1_cost + Overtime2_cost))*0.80\n",
    "print(cost)\n",
    "print(costfor1*numberofproduct1)\n",
    "print(costfor1*numberofproduct1+costfor2*numberofproduct2 + Overtime1_cost + Overtime2_cost)\n",
    "print(f\"The profit can decrease with {320/567.57*100} %\")"
   ]
  },
  {
   "cell_type": "markdown",
   "id": "744c3dfa",
   "metadata": {},
   "source": [
    "### Oppgave c\n",
    "Risk register indentifies potential risks in a project. It keeps track on the likelihood, consequenses of the risk and who is responsible for managing them. "
   ]
  },
  {
   "cell_type": "markdown",
   "id": "f129d9e4",
   "metadata": {},
   "source": []
  },
  {
   "cell_type": "markdown",
   "id": "ba17ab20",
   "metadata": {},
   "source": [
    "![riskregister](riskregister.png)"
   ]
  },
  {
   "cell_type": "markdown",
   "id": "b9b13526",
   "metadata": {},
   "source": [
    "The likelihood of a stock-out proplem is 20%, and therefore we can categorize it as moderate. We calculated earlier that the stock-out could would decrease the proft with 56%, this put the consequense in the Major category. Therefore we can conclude that this risk has extreme inpact on the production. "
   ]
  }
 ],
 "metadata": {
  "kernelspec": {
   "display_name": "Python 3",
   "language": "python",
   "name": "python3"
  },
  "language_info": {
   "codemirror_mode": {
    "name": "ipython",
    "version": 3
   },
   "file_extension": ".py",
   "mimetype": "text/x-python",
   "name": "python",
   "nbconvert_exporter": "python",
   "pygments_lexer": "ipython3",
   "version": "3.8.8"
  },
  "vscode": {
   "interpreter": {
    "hash": "be2bf22f00a8d0638119e05fdecbf479a4c3ed8c9fa51194f23100b73b46d8c3"
   }
  }
 },
 "nbformat": 4,
 "nbformat_minor": 5
}
