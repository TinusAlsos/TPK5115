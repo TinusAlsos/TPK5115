{
 "cells": [
  {
   "cell_type": "markdown",
   "id": "9eb258ae",
   "metadata": {},
   "source": [
    "Task 3\n",
    "a) Taking uncertainty in the production rates into account, investigate if\n",
    "it now pays off to reduce the usage of machine B for product 2 with\n",
    "5 minutes (as discussed in Task 1b). Since the durations are random,\n",
    "we consider the corresponding reduction in planned production with the\n",
    "same percentage. We assume that we will not reduce total production\n",
    "as considered in the previous task.\n"
   ]
  },
  {
   "cell_type": "code",
   "execution_count": 15,
   "id": "6bf44da3",
   "metadata": {},
   "outputs": [
    {
     "name": "stdout",
     "output_type": "stream",
     "text": [
      "0.6637302218949409\n",
      "0.06373490029264099\n",
      "[0.13340488 0.12629259 0.1291613  ... 0.13022994 0.12355833 0.13439475]\n",
      "[0.12150149 0.13060086 0.12094781 ... 0.12643586 0.13229496 0.1285245 ] [0.09814314 0.09559498 0.09514313 ... 0.10163649 0.09675007 0.09782458] [0.07509336 0.07218261 0.0729923  ... 0.0691697  0.07247028 0.07632893] [0.16411013 0.16789772 0.17120082 ... 0.17794431 0.19265487 0.17804175]\n"
     ]
    }
   ],
   "source": [
    "#task e)\n",
    "forventning_heleprosess = A1_forventning + A2_forventning + B1_forventning + B2_forventning + C1_forventning + C2_forventning\n",
    "varians_heleprosess \n",
    "\n",
    "print(forventning_heleprosess)  \n",
    "print(A1_forventning)   \n",
    "print(A2)\n",
    "print(B2, B1, C1, C2)     \n",
    "   "
   ]
  },
  {
   "cell_type": "code",
   "execution_count": 38,
   "id": "c595ea68",
   "metadata": {},
   "outputs": [
    {
     "name": "stdout",
     "output_type": "stream",
     "text": [
      "1.0210104724182205\n",
      "0.0034937836392497216\n"
     ]
    }
   ],
   "source": [
    "A1 = find_pert(1)\n",
    "A1_forventning = forventning(A1)\n",
    "A1_varians = np.var(A1)\n",
    "print(A1_forventning)\n",
    "print(A1_varians)"
   ]
  },
  {
   "cell_type": "code",
   "execution_count": null,
   "id": "627dc414",
   "metadata": {},
   "outputs": [],
   "source": []
  }
 ],
 "metadata": {
  "kernelspec": {
   "display_name": "Python 3",
   "language": "python",
   "name": "python3"
  },
  "language_info": {
   "codemirror_mode": {
    "name": "ipython",
    "version": 3
   },
   "file_extension": ".py",
   "mimetype": "text/x-python",
   "name": "python",
   "nbconvert_exporter": "python",
   "pygments_lexer": "ipython3",
   "version": "3.8.8"
  },
  "vscode": {
   "interpreter": {
    "hash": "be2bf22f00a8d0638119e05fdecbf479a4c3ed8c9fa51194f23100b73b46d8c3"
   }
  }
 },
 "nbformat": 4,
 "nbformat_minor": 5
}
