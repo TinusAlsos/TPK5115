{
 "cells": [
  {
   "cell_type": "markdown",
   "id": "9eb258ae",
   "metadata": {},
   "source": [
    "Task 3\n",
    "a) Taking uncertainty in the production rates into account, investigate if\n",
    "it now pays off to reduce the usage of machine B for product 2 with\n",
    "5 minutes (as discussed in Task 1b). Since the durations are random,\n",
    "we consider the corresponding reduction in planned production with the\n",
    "same percentage. We assume that we will not reduce total production\n",
    "as considered in the previous task.\n"
   ]
  },
  {
   "cell_type": "code",
   "execution_count": null,
   "id": "128b2b25",
   "metadata": {},
   "outputs": [],
   "source": [
    "#Task 2\n",
    "#a\n",
    "import numpy as np\n",
    "def find_pert(my):\n",
    "    min = 0.8 * my\n",
    "    max = 1.1*my\n",
    "    most_likely = my\n",
    "    alpha = 1 + 4*(most_likely - min)/(max-min)\n",
    "    beta = 1 + 4*(max - most_likely)/(max-min)\n",
    "    return 1/(min + np.random.beta(alpha, beta, size=10000)*(max-min))\n",
    "\n",
    "def forventning(parameter):\n",
    "    return np.average(paramerer)\n",
    "\n",
    "varians = np.var(pert)\n",
    "#TODO gjøre dette for alle my verdier. \n",
    "\n",
    "#Production rate, machine A wrt product 1\n",
    "A1 = find_pert(16)\n",
    "A1_forventning = forventning(A1)\n",
    "A1_varians = np.var(A1)\n",
    "\n",
    "\n",
    "#Production rate, machine A wrt product 2\n",
    "A2 = find_pert(8)\n",
    "A2_forventning = forventning(A2)\n",
    "A2_varians = np.var(A2)\n",
    "\n",
    "\n",
    "# Production rate, machine B wrt product 1\n",
    "B1 = find_pert(10)\n",
    "B1_forventning = forventning(B1)\n",
    "B1_varians = np.var(B1)\n",
    "\n",
    "\n",
    "# Production rate, machine B wrt product 2\n",
    "B2 = find_pert(8)\n",
    "B2_forventning = forventning(B2)\n",
    "B2_varians = np.var(B2)\n",
    "\n",
    "# Production rate, machine C wrt product 1\n",
    "C1 = find_pert(14)\n",
    "C1_forventning = forventning(C1)\n",
    "C1_varians = np.var(C1)\n",
    "\n",
    "# Production rate, machine C wrt product 2\n",
    "C2 = find_pert(6)\n",
    "C2_forventning = forventning(C2)\n",
    "C2_varians = np.var(C2)"
   ]
  },
  {
   "cell_type": "code",
   "execution_count": null,
   "id": "6bf44da3",
   "metadata": {},
   "outputs": [],
   "source": [
    "#task e)\n",
    "forventning_heleprosess = A1_forventning + A2_forventning + B1_forventning + B2_forventning + C1_forventning + C2_forventning\n",
    "varians_heleprosess = \n"
   ]
  }
 ],
 "metadata": {
  "kernelspec": {
   "display_name": "Python 3",
   "language": "python",
   "name": "python3"
  },
  "language_info": {
   "codemirror_mode": {
    "name": "ipython",
    "version": 3
   },
   "file_extension": ".py",
   "mimetype": "text/x-python",
   "name": "python",
   "nbconvert_exporter": "python",
   "pygments_lexer": "ipython3",
   "version": "3.8.8"
  },
  "vscode": {
   "interpreter": {
    "hash": "be2bf22f00a8d0638119e05fdecbf479a4c3ed8c9fa51194f23100b73b46d8c3"
   }
  }
 },
 "nbformat": 4,
 "nbformat_minor": 5
}
