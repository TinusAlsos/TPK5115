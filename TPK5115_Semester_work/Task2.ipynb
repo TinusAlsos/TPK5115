{
 "cells": [
  {
   "cell_type": "markdown",
   "id": "8b783c33",
   "metadata": {},
   "source": [
    "# Task 2 "
   ]
  },
  {
   "cell_type": "code",
   "execution_count": 1,
   "id": "fc8be26e",
   "metadata": {},
   "outputs": [],
   "source": [
    "# Data\n",
    "A1 = 16\n",
    "A2 = 8\n",
    "B1 = 10\n",
    "B2 = 8\n",
    "C1 = 14\n",
    "C2 = 6\n",
    "p1 = 10\n",
    "p2 = 12\n",
    "co = 100\n",
    "x1 = 2.042\n",
    "x2 = 3.267\n",
    "x3 = 2.333\n",
    "x4 = 2.4\n",
    "x5 = 2.4\n",
    "x6 = 3.2\n",
    "x7 = 0.358\n",
    "x8 = 0"
   ]
  },
  {
   "cell_type": "code",
   "execution_count": 2,
   "id": "42b17143",
   "metadata": {},
   "outputs": [],
   "source": [
    "low = lambda mu: mu * .8\n",
    "high = lambda mu: mu* 1.1\n",
    "LA1, LA2, LB1, LB2, LC1, LC2 = low(A1), low(A2), low(B1), low(B2), low(C1), low(C2)\n",
    "HA1, HA2, HB1, HB2, HC1, HC2 = high(A1), high(A2), high(B1), high(B2), high(C1), high(C2)"
   ]
  },
  {
   "cell_type": "markdown",
   "id": "b1425875",
   "metadata": {},
   "source": [
    "Let $M$ be the stochastic variable denoting the production rates and $m$ be the representation of the possible production rates $M$ can take. Let $u$ be the number of units produced, $T$ the stochastic variable denoting the time it takes to produce $u$ units and $t$ be the representation of the possible times it takes to produce $u$ units."
   ]
  },
  {
   "cell_type": "markdown",
   "id": "0b87c1da",
   "metadata": {},
   "source": [
    "We can simplify by setting $u=1$, we then get $$ t_1 = \\frac{1}{\\mu}$$ and $$T_1 = \\frac{1}{M_1}$$\n",
    "Then, we effectively get the time per unit."
   ]
  },
  {
   "cell_type": "markdown",
   "id": "c0876c14",
   "metadata": {},
   "source": [
    "We can therefore simply calculate $M_1$, which is PERT distriuted and take the inverse to get the time. "
   ]
  },
  {
   "cell_type": "markdown",
   "id": "887d0876",
   "metadata": {},
   "source": [
    "The expectation and variance of a PERT-distrbuted stochastic variable is given by equation (3.53) in the compendium. "
   ]
  },
  {
   "cell_type": "markdown",
   "id": "81fa8582",
   "metadata": {},
   "source": [
    "#### a) Expectation and variance "
   ]
  },
  {
   "cell_type": "code",
   "execution_count": 3,
   "id": "a5c17b4e",
   "metadata": {},
   "outputs": [],
   "source": [
    "def PERTe(L, M, H):\n",
    "    return (L + 4*M + H)/6\n",
    "def PERTvar(L, M, H):\n",
    "    E = PERTe(L, M, H)\n",
    "    return (E - L)*(H - E)/7 "
   ]
  },
  {
   "cell_type": "code",
   "execution_count": 4,
   "id": "6761d539",
   "metadata": {},
   "outputs": [],
   "source": [
    "inv = lambda mu: 1/mu # inverse function. Go from mu to t"
   ]
  },
  {
   "cell_type": "code",
   "execution_count": 5,
   "id": "f39afa02",
   "metadata": {},
   "outputs": [],
   "source": [
    "# calculate m's\n",
    "mA1, varmA1 = PERTe(LA1, A1, HA1), PERTvar(LA1, A1, HA1)\n",
    "mB1, varmB1 = PERTe(LB1, B1, HB1), PERTvar(LB1, B1, HB1)\n",
    "mC1, varmC1 = PERTe(LC1, C1, HC1), PERTvar(LC1, C1, HC1)\n",
    "mA2, varmA2 = PERTe(LA2, A2, HA2), PERTvar(LA2, A2, HA2)\n",
    "mB2, varmB2 = PERTe(LB2, B2, HB2), PERTvar(LB2, B2, HB2)\n",
    "mC2, varmC2 = PERTe(LC2, C2, HC2), PERTvar(LC2, C2, HC2)"
   ]
  },
  {
   "cell_type": "code",
   "execution_count": 6,
   "id": "191a071c",
   "metadata": {},
   "outputs": [],
   "source": [
    "# calculate t's\n",
    "# inverse of lows\n",
    "tLA1, tLA2, tLB1, tLB2, tLC1, tLC2 = (inv(x) for x in [LA1, LA2, LB1, LB2, LC1, LC2])\n",
    "# inverse of mediums\n",
    "tMA1, tMA2, tMB1, tMB2, tMC1, tMC2 = (inv(x) for x in [A1, A2, B1, B2, C1, C2])\n",
    "#inverse of highs\n",
    "tHA1, tHA2, tHB1, tHB2, tHC1, tHC2 = (inv(x) for x in [HA1, HA2, HB1, HB2, HC1, HC2])"
   ]
  },
  {
   "cell_type": "code",
   "execution_count": 9,
   "id": "8c8fdd07",
   "metadata": {},
   "outputs": [],
   "source": [
    "# calculate T1\n",
    "tA1, vartA1 = PERTe(tLA1, tMA1, tHA1), PERTvar(tLA1, tMA1, tHA1)\n",
    "tB1, vartB1 = PERTe(tLB1, tMB1, tHB1), PERTvar(tLB1, tMB1, tHB1)\n",
    "tC1, vartC1 = PERTe(tLC1, tMC1, tHC1), PERTvar(tLC1, tMC1, tHC1)\n",
    "tA2, vartA2 = PERTe(tLA2, tMA2, tHA2), PERTvar(tLA2, tMA2, tHA2)\n",
    "tB2, vartB2 = PERTe(tLB2, tMB2, tHB2), PERTvar(tLB2, tMB2, tHB2)\n",
    "tC2, vartC2 = PERTe(tLC2, tMC2, tHC2), PERTvar(tLC2, tMC2, tHC2)"
   ]
  },
  {
   "cell_type": "code",
   "execution_count": 10,
   "id": "fad2d120",
   "metadata": {},
   "outputs": [],
   "source": [
    "import pandas as pd"
   ]
  },
  {
   "cell_type": "code",
   "execution_count": 11,
   "id": "31fa7c73",
   "metadata": {},
   "outputs": [
    {
     "data": {
      "text/html": [
       "<div>\n",
       "<style scoped>\n",
       "    .dataframe tbody tr th:only-of-type {\n",
       "        vertical-align: middle;\n",
       "    }\n",
       "\n",
       "    .dataframe tbody tr th {\n",
       "        vertical-align: top;\n",
       "    }\n",
       "\n",
       "    .dataframe thead th {\n",
       "        text-align: right;\n",
       "    }\n",
       "</style>\n",
       "<table border=\"1\" class=\"dataframe\">\n",
       "  <thead>\n",
       "    <tr style=\"text-align: right;\">\n",
       "      <th></th>\n",
       "      <th>Machine/product</th>\n",
       "      <th>Expected time</th>\n",
       "      <th>Variance in time</th>\n",
       "    </tr>\n",
       "  </thead>\n",
       "  <tbody>\n",
       "    <tr>\n",
       "      <th>0</th>\n",
       "      <td>A1</td>\n",
       "      <td>0.064157</td>\n",
       "      <td>0.000015</td>\n",
       "    </tr>\n",
       "    <tr>\n",
       "      <th>1</th>\n",
       "      <td>B1</td>\n",
       "      <td>0.102652</td>\n",
       "      <td>0.000037</td>\n",
       "    </tr>\n",
       "    <tr>\n",
       "      <th>2</th>\n",
       "      <td>C1</td>\n",
       "      <td>0.073323</td>\n",
       "      <td>0.000019</td>\n",
       "    </tr>\n",
       "    <tr>\n",
       "      <th>3</th>\n",
       "      <td>A2</td>\n",
       "      <td>0.128314</td>\n",
       "      <td>0.000059</td>\n",
       "    </tr>\n",
       "    <tr>\n",
       "      <th>4</th>\n",
       "      <td>B2</td>\n",
       "      <td>0.128314</td>\n",
       "      <td>0.000059</td>\n",
       "    </tr>\n",
       "    <tr>\n",
       "      <th>5</th>\n",
       "      <td>C2</td>\n",
       "      <td>0.171086</td>\n",
       "      <td>0.000104</td>\n",
       "    </tr>\n",
       "  </tbody>\n",
       "</table>\n",
       "</div>"
      ],
      "text/plain": [
       "  Machine/product  Expected time  Variance in time\n",
       "0              A1       0.064157          0.000015\n",
       "1              B1       0.102652          0.000037\n",
       "2              C1       0.073323          0.000019\n",
       "3              A2       0.128314          0.000059\n",
       "4              B2       0.128314          0.000059\n",
       "5              C2       0.171086          0.000104"
      ]
     },
     "metadata": {},
     "output_type": "display_data"
    }
   ],
   "source": [
    "dic = {'Machine/product': ['A1', 'B1', 'C1', 'A2', 'B2', 'C2'],\n",
    "       'Expected time': [tA1, tB1, tC1, tA2, tB2, tC2],\n",
    "       'Variance in time': [vartA1, vartB1, vartC1, vartA2, vartB2, vartC2]\n",
    "      }\n",
    "# columns = ['Machine/product', 'Expected time', 'Variance time']\n",
    "df = pd.DataFrame(dic)\n",
    "df.reset_index(drop=True)\n",
    "display(df)"
   ]
  },
  {
   "cell_type": "code",
   "execution_count": 13,
   "id": "29fab4f8",
   "metadata": {},
   "outputs": [
    {
     "name": "stdout",
     "output_type": "stream",
     "text": [
      "0.6678458694083694\n"
     ]
    }
   ],
   "source": [
    "print(sum(df['Expected time']))"
   ]
  },
  {
   "cell_type": "code",
   "execution_count": 22,
   "id": "71b644c3",
   "metadata": {},
   "outputs": [
    {
     "name": "stdout",
     "output_type": "stream",
     "text": [
      "0.9833333333333334\n",
      "0.0030555555555555566\n",
      "1.0169491525423728\n"
     ]
    }
   ],
   "source": [
    "e1, v1 = PERTe(0.8, 1, 1.1), PERTvar(0.8, 1, 1.1)\n",
    "print(e1)\n",
    "print(v1)\n",
    "print(1/e1)\n"
   ]
  }
 ],
 "metadata": {
  "kernelspec": {
   "display_name": "Python 3",
   "language": "python",
   "name": "python3"
  },
  "language_info": {
   "codemirror_mode": {
    "name": "ipython",
    "version": 3
   },
   "file_extension": ".py",
   "mimetype": "text/x-python",
   "name": "python",
   "nbconvert_exporter": "python",
   "pygments_lexer": "ipython3",
   "version": "3.8.8"
  }
 },
 "nbformat": 4,
 "nbformat_minor": 5
}
