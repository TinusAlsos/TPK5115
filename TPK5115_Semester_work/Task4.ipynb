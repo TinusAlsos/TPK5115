{
 "cells": [
  {
   "cell_type": "markdown",
   "id": "d2e1bac7",
   "metadata": {},
   "source": [
    "# Task 4 "
   ]
  },
  {
   "cell_type": "code",
   "execution_count": 1,
   "id": "8ad96de2",
   "metadata": {},
   "outputs": [],
   "source": [
    "# Imports\n",
    "import pandas as pd\n",
    "import numpy as np"
   ]
  },
  {
   "cell_type": "markdown",
   "id": "e1122973",
   "metadata": {},
   "source": [
    "#### a) "
   ]
  },
  {
   "cell_type": "markdown",
   "id": "15386038",
   "metadata": {},
   "source": [
    "Here, we will use the least square (LS) principle, since the variables comes from two different distributions, namely product 1 and product 2."
   ]
  },
  {
   "cell_type": "markdown",
   "id": "bb09a63e",
   "metadata": {},
   "source": [
    "We let P denote the production rate, $x_1$ the product type (let 0 be product 1 and 2 be product 1, this works due to the assumption that $\\beta_1$ is a constant that represents the expected difference in production rates for the two products) and $x_2$ be the number of extra workers (this works because we assume an extra operator will have the same effect in terms of expected increase in production rate for the two producst)."
   ]
  },
  {
   "cell_type": "code",
   "execution_count": 2,
   "id": "2f4f8439",
   "metadata": {},
   "outputs": [
    {
     "data": {
      "text/html": [
       "<div>\n",
       "<style scoped>\n",
       "    .dataframe tbody tr th:only-of-type {\n",
       "        vertical-align: middle;\n",
       "    }\n",
       "\n",
       "    .dataframe tbody tr th {\n",
       "        vertical-align: top;\n",
       "    }\n",
       "\n",
       "    .dataframe thead th {\n",
       "        text-align: right;\n",
       "    }\n",
       "</style>\n",
       "<table border=\"1\" class=\"dataframe\">\n",
       "  <thead>\n",
       "    <tr style=\"text-align: right;\">\n",
       "      <th></th>\n",
       "      <th>P</th>\n",
       "      <th>x1</th>\n",
       "      <th>x2</th>\n",
       "    </tr>\n",
       "  </thead>\n",
       "  <tbody>\n",
       "    <tr>\n",
       "      <th>0</th>\n",
       "      <td>11.5</td>\n",
       "      <td>0</td>\n",
       "      <td>1</td>\n",
       "    </tr>\n",
       "    <tr>\n",
       "      <th>1</th>\n",
       "      <td>10.8</td>\n",
       "      <td>0</td>\n",
       "      <td>1</td>\n",
       "    </tr>\n",
       "    <tr>\n",
       "      <th>2</th>\n",
       "      <td>9.0</td>\n",
       "      <td>1</td>\n",
       "      <td>1</td>\n",
       "    </tr>\n",
       "    <tr>\n",
       "      <th>3</th>\n",
       "      <td>9.7</td>\n",
       "      <td>0</td>\n",
       "      <td>0</td>\n",
       "    </tr>\n",
       "    <tr>\n",
       "      <th>4</th>\n",
       "      <td>7.8</td>\n",
       "      <td>1</td>\n",
       "      <td>0</td>\n",
       "    </tr>\n",
       "    <tr>\n",
       "      <th>5</th>\n",
       "      <td>7.5</td>\n",
       "      <td>1</td>\n",
       "      <td>0</td>\n",
       "    </tr>\n",
       "    <tr>\n",
       "      <th>6</th>\n",
       "      <td>7.8</td>\n",
       "      <td>1</td>\n",
       "      <td>0</td>\n",
       "    </tr>\n",
       "    <tr>\n",
       "      <th>7</th>\n",
       "      <td>11.6</td>\n",
       "      <td>0</td>\n",
       "      <td>1</td>\n",
       "    </tr>\n",
       "    <tr>\n",
       "      <th>8</th>\n",
       "      <td>11.7</td>\n",
       "      <td>0</td>\n",
       "      <td>1</td>\n",
       "    </tr>\n",
       "    <tr>\n",
       "      <th>9</th>\n",
       "      <td>9.6</td>\n",
       "      <td>1</td>\n",
       "      <td>1</td>\n",
       "    </tr>\n",
       "    <tr>\n",
       "      <th>10</th>\n",
       "      <td>7.9</td>\n",
       "      <td>1</td>\n",
       "      <td>1</td>\n",
       "    </tr>\n",
       "    <tr>\n",
       "      <th>11</th>\n",
       "      <td>7.4</td>\n",
       "      <td>1</td>\n",
       "      <td>0</td>\n",
       "    </tr>\n",
       "    <tr>\n",
       "      <th>12</th>\n",
       "      <td>7.6</td>\n",
       "      <td>1</td>\n",
       "      <td>0</td>\n",
       "    </tr>\n",
       "  </tbody>\n",
       "</table>\n",
       "</div>"
      ],
      "text/plain": [
       "       P  x1  x2\n",
       "0   11.5   0   1\n",
       "1   10.8   0   1\n",
       "2    9.0   1   1\n",
       "3    9.7   0   0\n",
       "4    7.8   1   0\n",
       "5    7.5   1   0\n",
       "6    7.8   1   0\n",
       "7   11.6   0   1\n",
       "8   11.7   0   1\n",
       "9    9.6   1   1\n",
       "10   7.9   1   1\n",
       "11   7.4   1   0\n",
       "12   7.6   1   0"
      ]
     },
     "metadata": {},
     "output_type": "display_data"
    }
   ],
   "source": [
    "# Data\n",
    "dic = {'P': [11.5, 10.8, 9, 9.7, 7.8, 7.5, 7.8, 11.6, 11.7, 9.6, 7.9, 7.4, 7.6],\n",
    "      'x1': [0, 0, 1, 0, 1, 1, 1, 0, 0, 1, 1, 1, 1],\n",
    "      'x2': [1, 1, 1, 0, 0, 0, 0, 1, 1, 1, 1, 0, 0]}\n",
    "df = pd.DataFrame(dic)\n",
    "display(df)"
   ]
  },
  {
   "cell_type": "markdown",
   "id": "a9c1e072",
   "metadata": {},
   "source": [
    "#### b) "
   ]
  },
  {
   "cell_type": "markdown",
   "id": "e858fdea",
   "metadata": {},
   "source": [
    "**Step 1 **"
   ]
  },
  {
   "cell_type": "code",
   "execution_count": null,
   "id": "c170770a",
   "metadata": {},
   "outputs": [],
   "source": []
  },
  {
   "cell_type": "markdown",
   "id": "c907e8e3",
   "metadata": {},
   "source": [
    "To implement the LS algorithm, we reuse the code from assignment 7 problem 7.4"
   ]
  },
  {
   "cell_type": "code",
   "execution_count": 3,
   "id": "7864277e",
   "metadata": {},
   "outputs": [
    {
     "name": "stdout",
     "output_type": "stream",
     "text": [
      "beta_0 = 9.9729\n",
      "beta_1 = -2.4075\n",
      "beta_2 = 1.3589\n"
     ]
    }
   ],
   "source": [
    "#Setup\n",
    "X = np.zeros((len(df['x1']), 3))\n",
    "X[:,0] = 1\n",
    "X[:,1] = df['x1']\n",
    "X[:,2] = df['x2']\n",
    "y = np.array(df['P']).transpose()\n",
    "XT = X.transpose()\n",
    "#calc beta_hat\n",
    "def calc_beta_hat(X = X, XT = XT, y = y):\n",
    "    p1 = np.linalg.inv(np.dot(XT,X))\n",
    "    p2 = np.dot(p1, XT)\n",
    "    beta_hat = np.dot(p2, y)\n",
    "    return beta_hat\n",
    "    \n",
    "beta_hat = calc_beta_hat(X, XT, y)\n",
    "# print(beta_hat)\n",
    "#print results\n",
    "for i in range(len(beta_hat)):\n",
    "    print(f\"beta_{i} = {beta_hat[i]:.4f}\")"
   ]
  },
  {
   "cell_type": "markdown",
   "id": "e2252f4d",
   "metadata": {},
   "source": [
    "Now that the function \n",
    "$$\\hat{y_i} = \\hat\\beta_0 + \\hat\\beta_1x_{i,1} + \\hat\\beta_2x_{i,2}$$\n",
    "is calculated, we can proceed with the seven steps described on page 78 in the compendium to calculate the residuals and use them as input in the method of moments to estimate the PERT parameters."
   ]
  },
  {
   "cell_type": "code",
   "execution_count": 4,
   "id": "f00f5e57",
   "metadata": {
    "scrolled": false
   },
   "outputs": [
    {
     "name": "stdout",
     "output_type": "stream",
     "text": [
      "[11.3317757  11.3317757   8.92429907  9.9728972   7.56542056  7.56542056\n",
      "  7.56542056 11.3317757  11.3317757   8.92429907  8.92429907  7.56542056\n",
      "  7.56542056]\n"
     ]
    }
   ],
   "source": [
    "y_hat = np.dot(X, beta_hat)\n",
    "print(y_hat)"
   ]
  },
  {
   "cell_type": "markdown",
   "id": "5485fd05",
   "metadata": {},
   "source": [
    "**Step 3:**"
   ]
  },
  {
   "cell_type": "code",
   "execution_count": 5,
   "id": "1bc0bb99",
   "metadata": {},
   "outputs": [
    {
     "name": "stdout",
     "output_type": "stream",
     "text": [
      "[ 0.1682243  -0.5317757   0.07570093 -0.2728972   0.23457944 -0.06542056\n",
      "  0.23457944  0.2682243   0.3682243   0.67570093 -1.02429907 -0.16542056\n",
      "  0.03457944]\n"
     ]
    }
   ],
   "source": [
    "e_hat = np.array(df['P']) - y_hat\n",
    "print(e_hat)"
   ]
  },
  {
   "cell_type": "markdown",
   "id": "64136bf5",
   "metadata": {},
   "source": [
    "**Step 4:** Here we apply the same approach as in **Problem 7.2** (Method of moments), but with the residuals $\\epsilon$"
   ]
  },
  {
   "cell_type": "code",
   "execution_count": 6,
   "id": "ab7e7146",
   "metadata": {},
   "outputs": [
    {
     "name": "stdout",
     "output_type": "stream",
     "text": [
      "Average = 0.00\n",
      "S (stdev) = 0.43\n"
     ]
    }
   ],
   "source": [
    "xs = e_hat\n",
    "x_avg = np.mean(xs)\n",
    "n = len(xs)\n",
    "var = 1/(n-1)*np.sum(np.array([(x - x_avg)**2 for x in xs]))\n",
    "s = np.sqrt(var)\n",
    "print(f\"Average = {x_avg:.2f}\")\n",
    "print(f\"S (stdev) = {s:.2f}\")"
   ]
  },
  {
   "cell_type": "markdown",
   "id": "c34b19c8",
   "metadata": {},
   "source": [
    "Now we need to calculate L-, M- and H-values."
   ]
  },
  {
   "cell_type": "code",
   "execution_count": 7,
   "id": "94e82aab",
   "metadata": {},
   "outputs": [],
   "source": [
    "def calc_H(xs = xs, x_avg = x_avg, S = s):\n",
    "    xmax = np.max(xs)\n",
    "    xmin = np.min(xs)\n",
    "    return x_avg + S*np.sqrt(7*(xmax - x_avg)/(x_avg - xmin))\n",
    "\n",
    "def calc_L(H, xs = xs, x_avg = x_avg):\n",
    "    xmax = np.max(xs)\n",
    "    xmin = np.min(xs)\n",
    "    return x_avg - (H - x_avg)*(x_avg - xmin)/(xmax - x_avg)\n",
    "\n",
    "def calc_M(L, H, xs = xs, x_avg = x_avg):\n",
    "    return (6*x_avg - L - H)/4"
   ]
  },
  {
   "cell_type": "code",
   "execution_count": 8,
   "id": "c6cf6ab5",
   "metadata": {},
   "outputs": [
    {
     "name": "stdout",
     "output_type": "stream",
     "text": [
      "L_hat = -1.41\n",
      "M_hat = 0.12\n",
      "H_hat = 0.93\n"
     ]
    }
   ],
   "source": [
    "H_hat = calc_H(xs = xs, x_avg = x_avg, S = s)\n",
    "L_hat = calc_L(H_hat, xs = xs, x_avg = x_avg)\n",
    "M_hat = calc_M (L_hat, H_hat, xs = xs, x_avg = x_avg)\n",
    "print(f\"L_hat = {L_hat:.2f}\")\n",
    "print(f\"M_hat = {M_hat:.2f}\")\n",
    "print(f\"H_hat = {H_hat:.2f}\")"
   ]
  },
  {
   "cell_type": "markdown",
   "id": "1136d6a7",
   "metadata": {},
   "source": [
    "**Step 7:** Calculate L, M, H by adding y0 to L_hat, M_hat and H_hat respectively "
   ]
  },
  {
   "cell_type": "code",
   "execution_count": 9,
   "id": "6fd0965c",
   "metadata": {},
   "outputs": [
    {
     "name": "stdout",
     "output_type": "stream",
     "text": [
      "L = 6.39\n",
      "M = 7.92\n",
      "H = 8.73\n"
     ]
    }
   ],
   "source": [
    "y0 = df['P'][4]\n",
    "L, M, H = L_hat + y0, M_hat + y0, H_hat + y0\n",
    "print(f\"L = {L:.2f}\")\n",
    "print(f\"M = {M:.2f}\")\n",
    "print(f\"H = {H:.2f}\")"
   ]
  },
  {
   "cell_type": "markdown",
   "id": "8cba43f6",
   "metadata": {},
   "source": [
    "#### c)\n"
   ]
  },
  {
   "cell_type": "markdown",
   "id": "83a6effd",
   "metadata": {},
   "source": [
    "Mean value og variance av hva? Man får jo ikke noe profit av å produsere på maskin B direkte, skal man legge til den nye distribusjonen og regne ut tilsvarende tidligere oppgaver?"
   ]
  }
 ],
 "metadata": {
  "kernelspec": {
   "display_name": "Python 3",
   "language": "python",
   "name": "python3"
  },
  "language_info": {
   "codemirror_mode": {
    "name": "ipython",
    "version": 3
   },
   "file_extension": ".py",
   "mimetype": "text/x-python",
   "name": "python",
   "nbconvert_exporter": "python",
   "pygments_lexer": "ipython3",
   "version": "3.8.8"
  }
 },
 "nbformat": 4,
 "nbformat_minor": 5
}
