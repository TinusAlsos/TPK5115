{
 "cells": [
  {
   "cell_type": "markdown",
   "id": "d42272a3",
   "metadata": {},
   "source": [
    "Task 1\n",
    "a)  How many units will be produced per day of product 1 and product 2\n",
    "respectively, and what is the daily profit?\n",
    "\n",
    "Antallet er det minste tallet av hver verdi til hver maskin"
   ]
  },
  {
   "cell_type": "code",
   "execution_count": null,
   "id": "bd105339",
   "metadata": {},
   "outputs": [],
   "source": [
    "A1 = 16\n",
    "A2 = 8\n",
    "B1 = 10\n",
    "B2 = 8\n",
    "C1 = 14\n",
    "C2 = 6\n",
    "p1 = 10\n",
    "p2 = 12\n",
    "co = 100\n",
    "\n",
    "x1 = 2.042\n",
    "x2 = 3.267\n",
    "x3 = 2.333\n",
    "x4 = 2.4\n",
    "x5 = 2.4\n",
    "x6 = 3.2\n",
    "x7 = 0.358\n",
    "x8 = 0"
   ]
  },
  {
   "cell_type": "code",
   "execution_count": null,
   "id": "036dd18d",
   "metadata": {},
   "outputs": [],
   "source": [
    "antall1 = [A1*x1, B1*x2, C1*x3]\n",
    "daily_profit1 = math.floor(min(antall1))*p1\n",
    "antall2 = [A2*x4, B2*x5, C2*x6]\n",
    "daily_profit2 = math.floor(min(antall2))*p2\n",
    "daily_profit_combined = daily_profit1 + daily_profit2\n",
    "print(antall1) #TODO skriv en svarsetning\n",
    "print(antall2)\n",
    "print(daily_profit_combined)"
   ]
  },
  {
   "cell_type": "markdown",
   "id": "579182ad",
   "metadata": {},
   "source": [
    "b) Show that the solution in Table 3 is optimal. To show this, assume that\n",
    "we reduce the usage of machine B for product 2 with 5 minutes such\n",
    "that we can produce more of product 1, but that this will reduce the\n",
    "profit.\n",
    "\n",
    "Her er det B-ene vi må se på. 5 minutter tilsvarer 0.083"
   ]
  },
  {
   "cell_type": "code",
   "execution_count": null,
   "id": "f01c62cd",
   "metadata": {},
   "outputs": [],
   "source": [
    "antall1 = [A1*x1, B1*(x2+0.083), C1*x3]\n",
    "daily_profit1 = math.floor(min(antall1))*p1\n",
    "antall2 = [A2*x4, B2*(x5-0.083), C2*x6]\n",
    "daily_profit2 = math.floor(min(antall2))*p2\n",
    "daily_profit_combined = daily_profit1 + daily_profit2\n",
    "print(antall1) #TODO skriv en svarsetning\n",
    "print(antall2)\n",
    "print(daily_profit_combined)\n",
    "#ser her at den forrige var større"
   ]
  }
 ],
 "metadata": {
  "kernelspec": {
   "display_name": "Python 3.10.4 64-bit",
   "language": "python",
   "name": "python3"
  },
  "language_info": {
   "codemirror_mode": {
    "name": "ipython",
    "version": 3
   },
   "file_extension": ".py",
   "mimetype": "text/x-python",
   "name": "python",
   "nbconvert_exporter": "python",
   "pygments_lexer": "ipython3",
   "version": "3.10.4"
  },
  "vscode": {
   "interpreter": {
    "hash": "be2bf22f00a8d0638119e05fdecbf479a4c3ed8c9fa51194f23100b73b46d8c3"
   }
  }
 },
 "nbformat": 4,
 "nbformat_minor": 5
}
